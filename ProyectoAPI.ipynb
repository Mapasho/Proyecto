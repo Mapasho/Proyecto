{
 "cells": [
  {
   "cell_type": "code",
   "execution_count": 3,
   "metadata": {},
   "outputs": [
    {
     "name": "stderr",
     "output_type": "stream",
     "text": [
      "C:\\Users\\Mapas\\AppData\\Local\\Packages\\PythonSoftwareFoundation.Python.3.11_qbz5n2kfra8p0\\LocalCache\\local-packages\\Python311\\site-packages\\tqdm\\auto.py:22: TqdmWarning: IProgress not found. Please update jupyter and ipywidgets. See https://ipywidgets.readthedocs.io/en/stable/user_install.html\n",
      "  from .autonotebook import tqdm as notebook_tqdm\n"
     ]
    }
   ],
   "source": [
    "import pandas as pd\n",
    "import numpy as np\n",
    "import matplotlib.pyplot as plt\n",
    "%matplotlib inline\n",
    "from ydata_profiling import ProfileReport\n",
    "import seaborn as sns\n",
    "import unicodedata as unicodedata\n",
    "sns.set()"
   ]
  },
  {
   "cell_type": "code",
   "execution_count": 4,
   "metadata": {},
   "outputs": [],
   "source": [
    "df = pd.read_csv('df_arreglado.csv')"
   ]
  },
  {
   "cell_type": "code",
   "execution_count": 5,
   "metadata": {},
   "outputs": [
    {
     "data": {
      "text/html": [
       "<div>\n",
       "<style scoped>\n",
       "    .dataframe tbody tr th:only-of-type {\n",
       "        vertical-align: middle;\n",
       "    }\n",
       "\n",
       "    .dataframe tbody tr th {\n",
       "        vertical-align: top;\n",
       "    }\n",
       "\n",
       "    .dataframe thead th {\n",
       "        text-align: right;\n",
       "    }\n",
       "</style>\n",
       "<table border=\"1\" class=\"dataframe\">\n",
       "  <thead>\n",
       "    <tr style=\"text-align: right;\">\n",
       "      <th></th>\n",
       "      <th>Unnamed: 0</th>\n",
       "      <th>budget</th>\n",
       "      <th>id</th>\n",
       "      <th>original_language</th>\n",
       "      <th>overview</th>\n",
       "      <th>popularity</th>\n",
       "      <th>release_date</th>\n",
       "      <th>revenue</th>\n",
       "      <th>runtime</th>\n",
       "      <th>status</th>\n",
       "      <th>...</th>\n",
       "      <th>id_collection</th>\n",
       "      <th>name_collection</th>\n",
       "      <th>id_genres</th>\n",
       "      <th>name_genres</th>\n",
       "      <th>id_production</th>\n",
       "      <th>name_production</th>\n",
       "      <th>id_countrie</th>\n",
       "      <th>name_countrie</th>\n",
       "      <th>id_language</th>\n",
       "      <th>name_language</th>\n",
       "    </tr>\n",
       "  </thead>\n",
       "  <tbody>\n",
       "    <tr>\n",
       "      <th>0</th>\n",
       "      <td>0</td>\n",
       "      <td>30000000.0</td>\n",
       "      <td>862</td>\n",
       "      <td>en</td>\n",
       "      <td>Led by Woody, Andy's toys live happily in his ...</td>\n",
       "      <td>21.946943</td>\n",
       "      <td>1995-10-30</td>\n",
       "      <td>373554033.0</td>\n",
       "      <td>81.0</td>\n",
       "      <td>Released</td>\n",
       "      <td>...</td>\n",
       "      <td>10194.0</td>\n",
       "      <td>Toy Story Collection</td>\n",
       "      <td>16.0,35.0,10751.0</td>\n",
       "      <td>Animation,Comedy,Family</td>\n",
       "      <td>3.0</td>\n",
       "      <td>Pixar Animation Studios</td>\n",
       "      <td>US</td>\n",
       "      <td>United States of America</td>\n",
       "      <td>en</td>\n",
       "      <td>English</td>\n",
       "    </tr>\n",
       "    <tr>\n",
       "      <th>1</th>\n",
       "      <td>1</td>\n",
       "      <td>65000000.0</td>\n",
       "      <td>8844</td>\n",
       "      <td>en</td>\n",
       "      <td>When siblings Judy and Peter discover an encha...</td>\n",
       "      <td>17.015539</td>\n",
       "      <td>1995-12-15</td>\n",
       "      <td>262797249.0</td>\n",
       "      <td>104.0</td>\n",
       "      <td>Released</td>\n",
       "      <td>...</td>\n",
       "      <td>NaN</td>\n",
       "      <td>NaN</td>\n",
       "      <td>12.0,14.0,10751.0</td>\n",
       "      <td>Adventure,Fantasy,Family</td>\n",
       "      <td>559.0,2550.0,10201.0</td>\n",
       "      <td>TriStar Pictures,Teitler Film,Interscope Commu...</td>\n",
       "      <td>US</td>\n",
       "      <td>United States of America</td>\n",
       "      <td>en,fr</td>\n",
       "      <td>English,Français</td>\n",
       "    </tr>\n",
       "    <tr>\n",
       "      <th>2</th>\n",
       "      <td>2</td>\n",
       "      <td>0.0</td>\n",
       "      <td>15602</td>\n",
       "      <td>en</td>\n",
       "      <td>A family wedding reignites the ancient feud be...</td>\n",
       "      <td>11.712900</td>\n",
       "      <td>1995-12-22</td>\n",
       "      <td>0.0</td>\n",
       "      <td>101.0</td>\n",
       "      <td>Released</td>\n",
       "      <td>...</td>\n",
       "      <td>119050.0</td>\n",
       "      <td>Grumpy Old Men Collection</td>\n",
       "      <td>10749.0,35.0</td>\n",
       "      <td>Romance,Comedy</td>\n",
       "      <td>6194.0,19464.0</td>\n",
       "      <td>Warner Bros.,Lancaster Gate</td>\n",
       "      <td>US</td>\n",
       "      <td>United States of America</td>\n",
       "      <td>en</td>\n",
       "      <td>English</td>\n",
       "    </tr>\n",
       "    <tr>\n",
       "      <th>3</th>\n",
       "      <td>3</td>\n",
       "      <td>16000000.0</td>\n",
       "      <td>31357</td>\n",
       "      <td>en</td>\n",
       "      <td>Cheated on, mistreated and stepped on, the wom...</td>\n",
       "      <td>3.859495</td>\n",
       "      <td>1995-12-22</td>\n",
       "      <td>81452156.0</td>\n",
       "      <td>127.0</td>\n",
       "      <td>Released</td>\n",
       "      <td>...</td>\n",
       "      <td>NaN</td>\n",
       "      <td>NaN</td>\n",
       "      <td>35.0,18.0,10749.0</td>\n",
       "      <td>Comedy,Drama,Romance</td>\n",
       "      <td>306.0</td>\n",
       "      <td>Twentieth Century Fox Film Corporation</td>\n",
       "      <td>US</td>\n",
       "      <td>United States of America</td>\n",
       "      <td>en</td>\n",
       "      <td>English</td>\n",
       "    </tr>\n",
       "    <tr>\n",
       "      <th>4</th>\n",
       "      <td>4</td>\n",
       "      <td>0.0</td>\n",
       "      <td>11862</td>\n",
       "      <td>en</td>\n",
       "      <td>Just when George Banks has recovered from his ...</td>\n",
       "      <td>8.387519</td>\n",
       "      <td>1995-02-10</td>\n",
       "      <td>76578911.0</td>\n",
       "      <td>106.0</td>\n",
       "      <td>Released</td>\n",
       "      <td>...</td>\n",
       "      <td>96871.0</td>\n",
       "      <td>Father of the Bride Collection</td>\n",
       "      <td>35.0</td>\n",
       "      <td>Comedy</td>\n",
       "      <td>5842.0,9195.0</td>\n",
       "      <td>Sandollar Productions,Touchstone Pictures</td>\n",
       "      <td>US</td>\n",
       "      <td>United States of America</td>\n",
       "      <td>en</td>\n",
       "      <td>English</td>\n",
       "    </tr>\n",
       "  </tbody>\n",
       "</table>\n",
       "<p>5 rows × 25 columns</p>\n",
       "</div>"
      ],
      "text/plain": [
       "   Unnamed: 0      budget     id original_language  \\\n",
       "0           0  30000000.0    862                en   \n",
       "1           1  65000000.0   8844                en   \n",
       "2           2         0.0  15602                en   \n",
       "3           3  16000000.0  31357                en   \n",
       "4           4         0.0  11862                en   \n",
       "\n",
       "                                            overview  popularity release_date  \\\n",
       "0  Led by Woody, Andy's toys live happily in his ...   21.946943   1995-10-30   \n",
       "1  When siblings Judy and Peter discover an encha...   17.015539   1995-12-15   \n",
       "2  A family wedding reignites the ancient feud be...   11.712900   1995-12-22   \n",
       "3  Cheated on, mistreated and stepped on, the wom...    3.859495   1995-12-22   \n",
       "4  Just when George Banks has recovered from his ...    8.387519   1995-02-10   \n",
       "\n",
       "       revenue  runtime    status  ... id_collection  \\\n",
       "0  373554033.0     81.0  Released  ...       10194.0   \n",
       "1  262797249.0    104.0  Released  ...           NaN   \n",
       "2          0.0    101.0  Released  ...      119050.0   \n",
       "3   81452156.0    127.0  Released  ...           NaN   \n",
       "4   76578911.0    106.0  Released  ...       96871.0   \n",
       "\n",
       "                  name_collection          id_genres  \\\n",
       "0            Toy Story Collection  16.0,35.0,10751.0   \n",
       "1                             NaN  12.0,14.0,10751.0   \n",
       "2       Grumpy Old Men Collection       10749.0,35.0   \n",
       "3                             NaN  35.0,18.0,10749.0   \n",
       "4  Father of the Bride Collection               35.0   \n",
       "\n",
       "                name_genres         id_production  \\\n",
       "0   Animation,Comedy,Family                   3.0   \n",
       "1  Adventure,Fantasy,Family  559.0,2550.0,10201.0   \n",
       "2            Romance,Comedy        6194.0,19464.0   \n",
       "3      Comedy,Drama,Romance                 306.0   \n",
       "4                    Comedy         5842.0,9195.0   \n",
       "\n",
       "                                     name_production id_countrie  \\\n",
       "0                            Pixar Animation Studios          US   \n",
       "1  TriStar Pictures,Teitler Film,Interscope Commu...          US   \n",
       "2                        Warner Bros.,Lancaster Gate          US   \n",
       "3             Twentieth Century Fox Film Corporation          US   \n",
       "4          Sandollar Productions,Touchstone Pictures          US   \n",
       "\n",
       "              name_countrie id_language     name_language  \n",
       "0  United States of America          en           English  \n",
       "1  United States of America       en,fr  English,Français  \n",
       "2  United States of America          en           English  \n",
       "3  United States of America          en           English  \n",
       "4  United States of America          en           English  \n",
       "\n",
       "[5 rows x 25 columns]"
      ]
     },
     "execution_count": 5,
     "metadata": {},
     "output_type": "execute_result"
    }
   ],
   "source": [
    "df.head()"
   ]
  },
  {
   "cell_type": "code",
   "execution_count": 12,
   "metadata": {},
   "outputs": [
    {
     "name": "stdout",
     "output_type": "stream",
     "text": [
      "<class 'pandas.core.frame.DataFrame'>\n",
      "RangeIndex: 45376 entries, 0 to 45375\n",
      "Data columns (total 25 columns):\n",
      " #   Column             Non-Null Count  Dtype  \n",
      "---  ------             --------------  -----  \n",
      " 0   Unnamed: 0         45376 non-null  int64  \n",
      " 1   budget             45376 non-null  float64\n",
      " 2   id                 45376 non-null  int64  \n",
      " 3   original_language  45365 non-null  object \n",
      " 4   overview           44435 non-null  object \n",
      " 5   popularity         45376 non-null  float64\n",
      " 6   release_date       45376 non-null  object \n",
      " 7   revenue            45376 non-null  float64\n",
      " 8   runtime            45130 non-null  float64\n",
      " 9   status             45296 non-null  object \n",
      " 10  tagline            20398 non-null  object \n",
      " 11  title              45376 non-null  object \n",
      " 12  vote_average       45376 non-null  float64\n",
      " 13  release_year       45376 non-null  int64  \n",
      " 14  return             45376 non-null  float64\n",
      " 15  id_collection      4488 non-null   float64\n",
      " 16  name_collection    4488 non-null   object \n",
      " 17  id_genres          42992 non-null  object \n",
      " 18  name_genres        42992 non-null  object \n",
      " 19  id_production      33580 non-null  object \n",
      " 20  name_production    33580 non-null  object \n",
      " 21  id_countrie        39165 non-null  object \n",
      " 22  name_countrie      39165 non-null  object \n",
      " 23  id_language        41608 non-null  object \n",
      " 24  name_language      41485 non-null  object \n",
      "dtypes: float64(7), int64(3), object(15)\n",
      "memory usage: 8.7+ MB\n"
     ]
    }
   ],
   "source": [
    "df.info()"
   ]
  },
  {
   "attachments": {},
   "cell_type": "markdown",
   "metadata": {},
   "source": [
    "# API 1 "
   ]
  },
  {
   "cell_type": "code",
   "execution_count": 70,
   "metadata": {},
   "outputs": [],
   "source": [
    "def peliculas_mes(mes):\n",
    "    fechas = pd.to_datetime(df['release_date'], format= '%Y-%m-%d')\n",
    "    n_mes = fechas[fechas.dt.strftime('%B').str.capitalize() == mes.capitalize()]\n",
    "    respuesta = n_mes.shape[0]\n",
    "    return {'mes':mes, 'cantidad':respuesta}\n"
   ]
  },
  {
   "cell_type": "code",
   "execution_count": 71,
   "metadata": {},
   "outputs": [
    {
     "data": {
      "text/plain": [
       "{'mes': 'marzo', 'cantidad': 3553}"
      ]
     },
     "execution_count": 71,
     "metadata": {},
     "output_type": "execute_result"
    }
   ],
   "source": [
    "peliculas_mes('marzo')"
   ]
  },
  {
   "attachments": {},
   "cell_type": "markdown",
   "metadata": {},
   "source": [
    "# API 2"
   ]
  },
  {
   "cell_type": "code",
   "execution_count": 72,
   "metadata": {},
   "outputs": [],
   "source": [
    "def peliculas_dia(dia):\n",
    "    fechas = pd.to_datetime(df['release_date'], format= '%Y-%m-%d')\n",
    "    n_dia= fechas[fechas.dt.day_name(locale = 'es')==dia.capitalize()]\n",
    "    respuesta = n_dia.shape[0]\n",
    "    return {'dia':dia, 'cantidad':respuesta}"
   ]
  },
  {
   "cell_type": "code",
   "execution_count": 73,
   "metadata": {},
   "outputs": [
    {
     "data": {
      "text/plain": [
       "{'dia': 'lunes', 'cantidad': 3503}"
      ]
     },
     "execution_count": 73,
     "metadata": {},
     "output_type": "execute_result"
    }
   ],
   "source": [
    "peliculas_dia('lunes')"
   ]
  },
  {
   "attachments": {},
   "cell_type": "markdown",
   "metadata": {},
   "source": [
    "# API 3"
   ]
  },
  {
   "cell_type": "code",
   "execution_count": 74,
   "metadata": {},
   "outputs": [],
   "source": [
    "def franquicia(franquicia):\n",
    "    f_bajo= franquicia.lower()\n",
    "    fran= df[['name_collection','budget','revenue',]].dropna(subset=['name_collection'])\n",
    "    fran= fran[fran['name_collection'].map(str.lower).apply(lambda x: f_bajo in x)]\n",
    "    cantidad = fran.shape[0]\n",
    "    gananciat= (fran['revenue']- fran['budget']).sum()\n",
    "    gananciap= (fran['revenue']- fran['budget']).mean()\n",
    "    return {'franquicia': franquicia, 'cantidad': cantidad, 'ganancia_total':gananciat, 'ganancia_promedio': gananciap}\n",
    "               "
   ]
  },
  {
   "cell_type": "code",
   "execution_count": 75,
   "metadata": {},
   "outputs": [
    {
     "data": {
      "text/plain": [
       "{'franquicia': 'Toy Story Collection',\n",
       " 'cantidad': 3,\n",
       " 'ganancia_total': 1617890605.0,\n",
       " 'ganancia_promedio': 539296868.3333334}"
      ]
     },
     "execution_count": 75,
     "metadata": {},
     "output_type": "execute_result"
    }
   ],
   "source": [
    "franquicia('Toy Story Collection')"
   ]
  },
  {
   "attachments": {},
   "cell_type": "markdown",
   "metadata": {},
   "source": [
    "# API 4"
   ]
  },
  {
   "cell_type": "code",
   "execution_count": 19,
   "metadata": {},
   "outputs": [],
   "source": [
    "def peliculas_pais(pais):\n",
    "    m1 = df[['title', 'name_countrie']]\n",
    "    if isinstance(pais,str):\n",
    "        pais = pais.lower()\n",
    "        pais = unicodedata.normalize('NFKD', pais).encode('ascii', 'ignore').decode('utf-8','ignore')\n",
    "        ganancias = m1['title'][m1['name_countrie'].str.contains(pais)==True]\n",
    "        respuesta = ganancias.shape[0]\n",
    "    return {'pais': pais, 'cantidad': respuesta} # convine este"
   ]
  },
  {
   "cell_type": "code",
   "execution_count": 21,
   "metadata": {},
   "outputs": [],
   "source": [
    "def peliculas_pais(pais: str) -> dict:\n",
    "    if isinstance(pais, str):\n",
    "        pais = pais.lower()\n",
    "        pais = unicodedata.normalize('NFKD', pais).encode('ascii', 'ignore').decode('utf-8','ignore')\n",
    "        cantidad = df['name_countrie'].apply(lambda x: str(x).lower()).map(str.lower).apply(lambda x: pais in x).sum()\n",
    "        return {'pais': pais, 'cantidad': cantidad} # con este"
   ]
  },
  {
   "cell_type": "code",
   "execution_count": 23,
   "metadata": {},
   "outputs": [],
   "source": [
    "def peliculas_pais(pais):\n",
    "    m1 = df[['title', 'name_countrie']]\n",
    "    if isinstance(pais, str):\n",
    "        pais = pais.lower()\n",
    "        pais = unicodedata.normalize('NFKD', pais).encode('ascii', 'ignore').decode('utf-8','ignore')\n",
    "        cantidad = m1['title'][m1['name_countrie'].str.contains(pais)==True]\n",
    "        cantidad = df['name_countrie'].apply(lambda x: str(x).lower()).map(str.lower).apply(lambda x: pais in x)\n",
    "        respuesta = cantidad.shape[0]\n",
    "    return {'pais': pais, 'cantidad': respuesta} # y salio al fin este "
   ]
  },
  {
   "cell_type": "code",
   "execution_count": 24,
   "metadata": {},
   "outputs": [
    {
     "data": {
      "text/plain": [
       "{'pais': 'united states of america', 'cantidad': 45376}"
      ]
     },
     "execution_count": 24,
     "metadata": {},
     "output_type": "execute_result"
    }
   ],
   "source": [
    "peliculas_pais ('United States of America')"
   ]
  },
  {
   "attachments": {},
   "cell_type": "markdown",
   "metadata": {},
   "source": [
    "# API 5"
   ]
  },
  {
   "cell_type": "code",
   "execution_count": 78,
   "metadata": {},
   "outputs": [],
   "source": [
    "def productoras(productora):\n",
    "    prod = df[['name_production', 'budget', 'revenue']].dropna()\n",
    "    prod ['name_production'] = prod['name_production'].map(str.lower)\n",
    "    cantidad = prod.shape[0]\n",
    "    gtotal= (prod['revenue'] - prod['budget']).sum()\n",
    "    return {'productora':productora, 'ganancia_total': gtotal, 'cantidad': cantidad }\n",
    "\n",
    "\n"
   ]
  },
  {
   "cell_type": "code",
   "execution_count": 79,
   "metadata": {},
   "outputs": [
    {
     "data": {
      "text/plain": [
       "{'productora': 'Warner Bros.',\n",
       " 'ganancia_total': 317931314253.0,\n",
       " 'cantidad': 33580}"
      ]
     },
     "execution_count": 79,
     "metadata": {},
     "output_type": "execute_result"
    }
   ],
   "source": [
    "productoras('Warner Bros.')"
   ]
  },
  {
   "attachments": {},
   "cell_type": "markdown",
   "metadata": {},
   "source": [
    "# API 6"
   ]
  },
  {
   "cell_type": "code",
   "execution_count": 80,
   "metadata": {},
   "outputs": [],
   "source": [
    "def retorno(pelicula):\n",
    "    peli = df[['title','budget', 'revenue', 'return', 'release_year']].dropna()\n",
    "    peli['title'] = peli['title'].map(str.lower)\n",
    "    peli = peli[peli['title']==str(pelicula).lower()]\n",
    "    inver = peli['budget'].loc[0]\n",
    "    gan = peli['revenue'].loc[0]\n",
    "    ret = peli['return'].loc[0]\n",
    "    an = peli['release_year'].loc[0]\n",
    "    return {'pelicula': pelicula, 'inversion': inver, 'ganancia': gan, 'retorno': ret, 'anio': an } # este no anda"
   ]
  },
  {
   "cell_type": "code",
   "execution_count": 81,
   "metadata": {},
   "outputs": [],
   "source": [
    "def retorno(pelicula: str) -> dict:\n",
    "    pelicula_df = df.loc[df['title'] == pelicula.title()]\n",
    "    inversion = pelicula_df['budget'].iloc[0].item()\n",
    "    ganancia = pelicula_df['revenue'].iloc[0].item()\n",
    "    retorno= pelicula_df['return'].iloc[0].item()\n",
    "    anio = pelicula_df['release_year'].iloc[0].item()\n",
    "    return {'pelicula': pelicula, 'inversion': inversion, 'ganancia': ganancia, 'retorno': retorno, 'anio': anio } # arreglado\n",
    "\n"
   ]
  },
  {
   "cell_type": "code",
   "execution_count": 82,
   "metadata": {},
   "outputs": [
    {
     "data": {
      "text/plain": [
       "{'pelicula': 'toy story',\n",
       " 'inversion': 30000000.0,\n",
       " 'ganancia': 373554033.0,\n",
       " 'retorno': 12.4518011,\n",
       " 'anio': 1995}"
      ]
     },
     "execution_count": 82,
     "metadata": {},
     "output_type": "execute_result"
    }
   ],
   "source": [
    "retorno('toy story')"
   ]
  },
  {
   "attachments": {},
   "cell_type": "markdown",
   "metadata": {},
   "source": [
    "# API 7"
   ]
  }
 ],
 "metadata": {
  "kernelspec": {
   "display_name": "Python 3",
   "language": "python",
   "name": "python3"
  },
  "language_info": {
   "codemirror_mode": {
    "name": "ipython",
    "version": 3
   },
   "file_extension": ".py",
   "mimetype": "text/x-python",
   "name": "python",
   "nbconvert_exporter": "python",
   "pygments_lexer": "ipython3",
   "version": "3.11.3"
  },
  "orig_nbformat": 4
 },
 "nbformat": 4,
 "nbformat_minor": 2
}
